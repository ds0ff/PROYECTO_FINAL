{
 "cells": [
  {
   "cell_type": "code",
   "execution_count": 4,
   "id": "8d463c78",
   "metadata": {},
   "outputs": [],
   "source": [
    "from PROYECTO_FINAL import *"
   ]
  },
  {
   "cell_type": "markdown",
   "id": "62a9c3f4",
   "metadata": {},
   "source": [
    "----"
   ]
  },
  {
   "cell_type": "markdown",
   "id": "bba2cd05",
   "metadata": {},
   "source": [
    "<img src='https://thumbs.dreamstime.com/b/noche-logo-artwork-del-casino-de-las-vegas-130097682.jpg' width='400'>\n",
    "\n",
    " *Imagen de: [[dreamstime]](https://es.dreamstime.com/illustration/casino.html)*"
   ]
  },
  {
   "cell_type": "markdown",
   "id": "a2e4c53f",
   "metadata": {},
   "source": [
    "----"
   ]
  },
  {
   "cell_type": "markdown",
   "id": "7c0b8629",
   "metadata": {},
   "source": [
    "<h1 align=center style=\"Resourcefulness\"><span style=\"color:#00a3ad\">REGLAS DEL JUEGO</span></h1>\n",
    "<!-- <h2 align=center style=\"font-Resourcefulness\"><span style=\"color:#00a3ad\">Tema: <span></h2> -->\n",
    "<!-- <h2 align=center style=\"font-OLD Resourcefulness\"><span style=\"color:#00a3ad\">Profesor: </span></h2> -->\n",
    "\n",
    "____\n",
    "\n",
    "<font face = \"Resourcefulness\">\n",
    "\n",
    "1. El juego es para mínimo dos jugadores \n",
    "\n",
    "2. Fijar cuál va hacer el valor inicial de la apuesta.(mínimo $100) \n",
    "\n",
    "3. Cada jugador debe apostar el valor fijado anteriormente, y la sumatoria de este será el pozo.\n",
    "\n",
    "4. El jugador debe lanzar el dado, y según su lanzamiento, puede pasar lo siguiente:\n",
    "    \n",
    "    1) Si el resultado de su lanzamiento es 1, el jugador pierde lo apostado, y debe \n",
    "    dar el turno al siguiente jugador\n",
    "      \n",
    "    2) Si el resultado de su lanzamiento es 6, puede retirar lo que apostó anteriormente. \n",
    "    Cada vez que reclame su premio, el casino gana una comisión del 5% \n",
    "      \n",
    "    3) En el caso de el resultado este entre 2 y 5 , el jugador debe apostar como mínimo \n",
    "    lo fijado al inicio, y como máximo la cantidad total que se encuentre en el pozo en \n",
    "    ese momento. Y ahora debe realizar un segundo lanzamiento en el cual se determina que el nuevo resultado debe ser\n",
    "    mayor a el resultado anterior, esto para ganar lo apostado ,si es el caso contrario pierde lo apostado    \n",
    "\n",
    "\n",
    "5. El juego terminará cuando el pozo sea menor que 0 \n",
    "\n",
    "</font>"
   ]
  },
  {
   "cell_type": "code",
   "execution_count": 5,
   "id": "3a425375",
   "metadata": {},
   "outputs": [
    {
     "name": "stdout",
     "output_type": "stream",
     "text": [
      "Ingrese el numero de jugadores:\n",
      " 0\n",
      "Ingrese el valor inicial de la apuesta:\n",
      " 0\n"
     ]
    }
   ],
   "source": [
    "juego()"
   ]
  },
  {
   "cell_type": "code",
   "execution_count": null,
   "id": "570f4f2f",
   "metadata": {},
   "outputs": [],
   "source": []
  }
 ],
 "metadata": {
  "kernelspec": {
   "display_name": "Python 3 (ipykernel)",
   "language": "python",
   "name": "python3"
  },
  "language_info": {
   "codemirror_mode": {
    "name": "ipython",
    "version": 3
   },
   "file_extension": ".py",
   "mimetype": "text/x-python",
   "name": "python",
   "nbconvert_exporter": "python",
   "pygments_lexer": "ipython3",
   "version": "3.9.7"
  }
 },
 "nbformat": 4,
 "nbformat_minor": 5
}
